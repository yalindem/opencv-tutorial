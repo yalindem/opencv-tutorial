{
 "cells": [
  {
   "cell_type": "markdown",
   "metadata": {},
   "source": [
    "<a href=\"https://akademie.datamics.com/kursliste/\">![title](bg_datamics_top.png)</a>\n",
    "\n",
    "<center><em>© Datamics</em></center><br><center><em>Besuche uns für mehr Informationen auf <a href='https://akademie.datamics.com/kursliste/'>www.akademie.datamics.com</a></em>"
   ]
  },
  {
   "cell_type": "markdown",
   "metadata": {},
   "source": [
    "# In ein Video zeichnen\n",
    "\n",
    "Wenn wir Videos mit Techniken wir Objekt- oder Gesichtserkennung analysieren, ist es oft das Ziel, Bilder in das Video zu zeichnen, wie eine Box um ein Gesicht.\n",
    "\n",
    "Lasst uns die Grundlagen des Zeichnens in einem Video mit OpenCV lernen!"
   ]
  },
  {
   "cell_type": "code",
   "execution_count": null,
   "metadata": {},
   "outputs": [],
   "source": [
    "import cv2\n",
    "\n",
    "cap = cv2.VideoCapture(0)\n",
    "\n",
    "\n",
    "# Verwende automatische Breite und Höhe des Video-Feeds\n",
    "# (gibt eine Gleitkommazahl (float) zurück, die wir später in eine Ganzzahl (integer) umwandeln müssen!)\n",
    "width = int(cap.get(cv2.CAP_PROP_FRAME_WIDTH))\n",
    "height = int(cap.get(cv2.CAP_PROP_FRAME_HEIGHT))\n",
    "\n",
    "# Wir verwenden hier // , weil in Python // die klassische Ganzzahldivision erlaubt,\n",
    "# da wir keine Gleitkommazahl an die cv2.rectangle-Funktion übergeben können\n",
    "\n",
    "# Koordinaten des Rechtecks\n",
    "x = width//2\n",
    "y = height//2\n",
    "\n",
    "# Breite und Höhe\n",
    "w = width//4\n",
    "h = height//4\n",
    "\n",
    "while True:\n",
    "    # Erfasse Einzelbild für Einzelbild\n",
    "    ret, frame = cap.read()\n",
    "\n",
    "    # Zeichne ein Rechteck auf den Stream\n",
    "    \n",
    "    cv2.rectangle(frame, (x, y), (x+w, y+h), color=(0,0,255),thickness= 4)\n",
    "\n",
    "    # Zeige das resultierende Einzelbild an\n",
    "    cv2.imshow('frame', frame)\n",
    "\n",
    "    # Dieser Befehl lässt uns das Programm beenden durch Drücken der \"q\"-Taste auf der Tastatur.\n",
    "    # Einfach nur das X des Fensters drücken funktioniert nicht!\n",
    "    if cv2.waitKey(1) & 0xFF == ord('q'):\n",
    "        break\n",
    "\n",
    "# Beende die Bilderfassung, wenn alles getan ist\n",
    "cap.release()\n",
    "cv2.destroyAllWindows()"
   ]
  },
  {
   "cell_type": "markdown",
   "metadata": {},
   "source": [
    "--------"
   ]
  },
  {
   "cell_type": "markdown",
   "metadata": {},
   "source": [
    "## Interaktives Zeichnen in ein Video\n",
    "\n",
    "Wir werden das hier nicht so oft verwenden, aber lass es uns ausprobieren, nur für den Fall!"
   ]
  },
  {
   "cell_type": "code",
   "execution_count": null,
   "metadata": {},
   "outputs": [],
   "source": [
    "import cv2\n",
    "import numpy as np"
   ]
  },
  {
   "cell_type": "code",
   "execution_count": null,
   "metadata": {},
   "outputs": [],
   "source": [
    "import cv2\n",
    "# Erzeuge eine auf einem CV2-Event (Ereignis) basierende Funktion (linker Mausklick) \n",
    "\n",
    "# Callback-Funktion (Rückruffunktion) der Maus\n",
    "def draw_rectangle(event,x,y,flags,param):\n",
    "\n",
    "    global pt1,pt2,topLeft_clicked,botRight_clicked\n",
    "\n",
    "    # Erhalte einen Mausklick\n",
    "    if event == cv2.EVENT_LBUTTONDOWN:\n",
    "\n",
    "        if topLeft_clicked == True and botRight_clicked == True:\n",
    "            topLeft_clicked = False\n",
    "            botRight_clicked = False\n",
    "            pt1 = (0,0)\n",
    "            pt2 = (0,0)\n",
    "\n",
    "        if topLeft_clicked == False:\n",
    "            pt1 = (x,y)\n",
    "            topLeft_clicked = True\n",
    "            \n",
    "        elif botRight_clicked == False:\n",
    "            pt2 = (x,y)\n",
    "            botRight_clicked = True\n",
    "\n",
    "        \n",
    "# Es wurde noch nichts gezeichnet!\n",
    "\n",
    "pt1 = (0,0)\n",
    "pt2 = (0,0)\n",
    "topLeft_clicked = False\n",
    "botRight_clicked = False\n",
    "\n",
    "cap = cv2.VideoCapture(0) \n",
    "\n",
    "# Erzeuge ein benanntes Fenster für Verbindungen\n",
    "cv2.namedWindow('Test')\n",
    "\n",
    "# Verknüpfe die draw_rectangle-Funktion mit Mausklicks\n",
    "cv2.setMouseCallback('Test', draw_rectangle) \n",
    "\n",
    "\n",
    "while True:\n",
    "    # Erfasse Frame (Einzelbild) für Frame\n",
    "    ret, frame = cap.read()\n",
    "\n",
    "    if topLeft_clicked:\n",
    "        cv2.circle(frame, center=pt1, radius=5, color=(0,0,255), thickness=-1)\n",
    "        \n",
    "    # Zeichne das Rechteck\n",
    "    if topLeft_clicked and botRight_clicked:\n",
    "        cv2.rectangle(frame, pt1, pt2, (0, 0, 255), 2)\n",
    "        \n",
    "        \n",
    "    # Zeige das resultierende Frame an\n",
    "    cv2.imshow('Test', frame)\n",
    "\n",
    "    # Dieser Befehl lässt uns das Programm beenden durch Drücken der \"q\"-Taste auf der Tastatur.\n",
    "    # Einfach nur das X des Fensters drücken funktioniert nicht!\n",
    "    if cv2.waitKey(1) & 0xFF == ord('q'):\n",
    "        break\n",
    "\n",
    "# Beende die Bilderfassung, wenn alles getan ist\n",
    "cap.release()\n",
    "cv2.destroyAllWindows()"
   ]
  }
 ],
 "metadata": {
  "kernelspec": {
   "display_name": "Python 3 (ipykernel)",
   "language": "python",
   "name": "python3"
  },
  "language_info": {
   "codemirror_mode": {
    "name": "ipython",
    "version": 3
   },
   "file_extension": ".py",
   "mimetype": "text/x-python",
   "name": "python",
   "nbconvert_exporter": "python",
   "pygments_lexer": "ipython3",
   "version": "3.7.10"
  }
 },
 "nbformat": 4,
 "nbformat_minor": 2
}
