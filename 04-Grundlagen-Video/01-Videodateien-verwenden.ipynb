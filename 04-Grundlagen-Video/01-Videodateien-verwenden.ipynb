{
 "cells": [
  {
   "cell_type": "markdown",
   "metadata": {},
   "source": [
    "<a href=\"https://akademie.datamics.com/kursliste/\">![title](bg_datamics_top.png)</a>\n",
    "\n",
    "<center><em>© Datamics</em></center><br><center><em>Besuche uns für mehr Informationen auf <a href='https://akademie.datamics.com/kursliste/'>www.akademie.datamics.com</a></em>"
   ]
  },
  {
   "cell_type": "markdown",
   "metadata": {},
   "source": [
    "# OpenCV mit Videodateien\n",
    "\n",
    "Lasst uns nun das aufgezeichnete Video der letzten Lektion öffnen. Die Datei heisst \"video_capture.mp4\". Allerdings kannst du den folgenden Code verwenden, um jedes gängige Videoformat zu öffnen."
   ]
  },
  {
   "cell_type": "code",
   "execution_count": 1,
   "metadata": {},
   "outputs": [],
   "source": [
    "# Führe alles in einer Zelle aus!"
   ]
  },
  {
   "cell_type": "code",
   "execution_count": 2,
   "metadata": {},
   "outputs": [
    {
     "name": "stdout",
     "output_type": "stream",
     "text": [
      "Error opening the video file. Please double check your file path for typos. Or move the movie file to the same location as this script/notebook\n"
     ]
    }
   ],
   "source": [
    "import cv2\n",
    "import time\n",
    "# Der selbe Befehl funktioniert für Streaming, diesmal übergeben wir lediglich den Dateipfad, klasse!\n",
    "cap = cv2.VideoCapture('../DATA/video_capture.mp4')\n",
    "\n",
    "# FRAMES (EINZELBILDER) PRO SEKUNDE FÜR DAS VIDEO\n",
    "fps = 25\n",
    "\n",
    "# Es ist immer eine gute Idee, zu überprüfen ob das Video tatsächlich vorhanden ist\n",
    "# Wenn in diesem Schritt ein Fehler auftritt, überprüfe mehrfach den verwendeten Dateipfad!\n",
    "if cap.isOpened()== False: \n",
    "    print(\"Error opening the video file. Please double check your file path for typos. Or move the movie file to the same location as this script/notebook\")\n",
    "    \n",
    "\n",
    "# Solange das Video geöffnet ist\n",
    "while cap.isOpened():\n",
    "    \n",
    "    \n",
    "    \n",
    "    # Lies die Videodatei\n",
    "    ret, frame = cap.read()\n",
    "    \n",
    "    # Wenn wir Frames haben, zeige sie\n",
    "    if ret == True:\n",
    "        \n",
    "        \n",
    "        \n",
    "        # Zeige das Frame mit der gleichen Bildrate der Aufzeichnung\n",
    "        # Betrachte das Video der Lektion für eine volle Erklärung\n",
    "        time.sleep(1/fps)\n",
    "        cv2.imshow('frame',frame)\n",
    " \n",
    "        # Drücke q zum beenden\n",
    "        if cv2.waitKey(25) & 0xFF == ord('q'):\n",
    "            \n",
    "            break\n",
    " \n",
    "    # Oder beende die Schleife automatisch, wenn das Video vorbei ist.\n",
    "    else:\n",
    "        break\n",
    "        \n",
    "cap.release()\n",
    "# Schliesse alle Frames\n",
    "cv2.destroyAllWindows()"
   ]
  }
 ],
 "metadata": {
  "kernelspec": {
   "display_name": "Python 3 (ipykernel)",
   "language": "python",
   "name": "python3"
  },
  "language_info": {
   "codemirror_mode": {
    "name": "ipython",
    "version": 3
   },
   "file_extension": ".py",
   "mimetype": "text/x-python",
   "name": "python",
   "nbconvert_exporter": "python",
   "pygments_lexer": "ipython3",
   "version": "3.7.10"
  }
 },
 "nbformat": 4,
 "nbformat_minor": 2
}
