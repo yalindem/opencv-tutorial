{
 "cells": [
  {
   "cell_type": "markdown",
   "metadata": {},
   "source": [
    "<a href=\"https://akademie.datamics.com/kursliste/\">![title](bg_datamics_top.png)</a>\n",
    "\n",
    "<center><em>© Datamics</em></center><br><center><em>Besuche uns für mehr Informationen auf <a href='https://akademie.datamics.com/kursliste/'>www.akademie.datamics.com</a></em>"
   ]
  },
  {
   "cell_type": "markdown",
   "metadata": {},
   "source": [
    "# OpenCV Anschluss an eine USB- oder Laptopkamera\n",
    "\n",
    "OpenCV kann sich automatisch mit der eingebauten Kamera deines Laptops oder einer USB-Kamera verbinden, wenn du die spezifischen Treiber der USB-Kamera installiert hast. Bitte beachte, dass es für uns nahezu unmöglich ist, dir bei diesem Typ physikalischer Probleme zu helfen. Wenn es dir nicht möglich ist, die Kamera anzuschliessen, beachte bitte unsere Tipps zur Fehlersuche hier: \n",
    "\n",
    "* https://github.com/opencv/opencv/issues/8471\n",
    "\n",
    "### Notebookbenutzer müssen gegebenenfalls nach dem Schliessen des Kamerafensters den Kernel neu starten !"
   ]
  },
  {
   "cell_type": "code",
   "execution_count": null,
   "metadata": {},
   "outputs": [],
   "source": [
    "# DAS ALLES GEHÖRT IN EINE ZELLE!\n",
    "\n",
    "import cv2\n",
    "\n",
    "\n",
    "# Verbindung mit der Standardkamera des Computers\n",
    "cap = cv2.VideoCapture(0)\n",
    "\n",
    "\n",
    "# Verwende automatisch Breite und Höhe des Video-Feeds\n",
    "# (gibt eine Gleitkommazahl (float) zurück, die wir später in eine Ganzzahl (integer) umwandeln müssen!)\n",
    "width = int(cap.get(cv2.CAP_PROP_FRAME_WIDTH))\n",
    "height = int(cap.get(cv2.CAP_PROP_FRAME_HEIGHT))\n",
    "\n",
    "while True:\n",
    "    \n",
    "    # Erfasse Frame (Einzelbild) für Frame\n",
    "    ret, frame = cap.read()\n",
    "\n",
    "    # Hier werden unsere Operationen auf das Frame angewendet\n",
    "    gray = cv2.cvtColor(frame, cv2.COLOR_BGR2GRAY)\n",
    "\n",
    "    # Zeige das resultierende Frame an\n",
    "    cv2.imshow('frame',gray)\n",
    "    \n",
    "    # Dieser Befehl lässt uns das Programm beenden durch Drücken der \"q\"-Taste auf der Tastatur.\n",
    "    # Einfach nur das X des Fensters drücken funktioniert nicht!\n",
    "    if cv2.waitKey(1) & 0xFF == ord('q'):\n",
    "        break\n",
    "\n",
    "# Beende die Bilderfassung und zerstöre das Fenster, wenn alles getan ist\n",
    "cap.release()\n",
    "cv2.destroyAllWindows()"
   ]
  },
  {
   "cell_type": "markdown",
   "metadata": {},
   "source": [
    "## Einen Videostream in eine Datei schreiben"
   ]
  },
  {
   "cell_type": "markdown",
   "metadata": {},
   "source": [
    "### Notebookbenutzer: Bitte stellt sicher, dass alles in der selben Zelle ist!"
   ]
  },
  {
   "cell_type": "markdown",
   "metadata": {},
   "source": [
    "FourCC ist ein 4-Byte-Code, der das Video-Codec spezifiziert. Die Liste der verfügbaren Codes kann in fourcc.org gefunden werden. Die Codes sind plattformunabhängig.\n",
    "\n",
    "MEHR INFORMATIONEN ÜBER CODECS: https://docs.opencv.org/3.0-beta/doc/py_tutorials/py_gui/py_video_display/py_video_display.html#saving-a-video"
   ]
  },
  {
   "cell_type": "code",
   "execution_count": null,
   "metadata": {},
   "outputs": [],
   "source": [
    "import cv2\n",
    "\n",
    "cap = cv2.VideoCapture(0)\n",
    "\n",
    "# Verwende automatische Breite und Höhe des Video-Feeds\n",
    "# (gibt eine Gleitkommazahl (float) zurück, die wir später in eine Ganzzahl (integer) umwandeln müssen!)\n",
    "width = int(cap.get(cv2.CAP_PROP_FRAME_WIDTH))\n",
    "height = int(cap.get(cv2.CAP_PROP_FRAME_HEIGHT))\n",
    "\n",
    "\n",
    "# MACOS UND LINUX: *'XVID' (MacOS-Benutzer könnten gegebenenfalls auch VIDX ausprobieren)\n",
    "# WINDOWS *'VIDX'\n",
    "writer = cv2.VideoWriter('../DATA/student_capture.mp4', cv2.VideoWriter_fourcc(*'XVID'),25, (width, height))\n",
    "\n",
    "# Diese Schleife zeichnet auf, bis Q gedrückt oder das Fenster verlassen wird.\n",
    "# Anstelle dessen könntest du eine Art Zähler (Timer) verwenden, wie from time import sleep und danach nur für 5 Sekunden aufzeichnen.\n",
    "\n",
    "while True:\n",
    "    # Erfasse Frame (Einzelbild) für Frame\n",
    "    ret, frame = cap.read()\n",
    "\n",
    "    \n",
    "    # Schreibe das Video\n",
    "    writer.write(frame)\n",
    "\n",
    "    # Zeige das resultierende Frame an\n",
    "    cv2.imshow('frame',frame)\n",
    "    \n",
    "    # Dieser Befehl lässt uns das Programm beenden durch Drücken der \"q\"-Taste auf der Tastatur.\n",
    "    # Einfach nur das X des Fensters drücken funktioniert nicht!\n",
    "    if cv2.waitKey(1) & 0xFF == ord('q'):\n",
    "        break\n",
    "\n",
    "        \n",
    "cap.release()\n",
    "writer.release()\n",
    "cv2.destroyAllWindows()"
   ]
  },
  {
   "cell_type": "markdown",
   "metadata": {},
   "source": [
    "Bitte suche auf StackOverFlow nach Lösungen, falls du auf Probleme triffst, da Fehlersuche (Debugging) mit Onlineunterstützung insbesonders schwierig ist."
   ]
  }
 ],
 "metadata": {
  "kernelspec": {
   "display_name": "Python 3 (ipykernel)",
   "language": "python",
   "name": "python3"
  },
  "language_info": {
   "codemirror_mode": {
    "name": "ipython",
    "version": 3
   },
   "file_extension": ".py",
   "mimetype": "text/x-python",
   "name": "python",
   "nbconvert_exporter": "python",
   "pygments_lexer": "ipython3",
   "version": "3.7.10"
  }
 },
 "nbformat": 4,
 "nbformat_minor": 2
}
