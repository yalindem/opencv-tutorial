{
 "cells": [
  {
   "cell_type": "markdown",
   "metadata": {},
   "source": [
    "<a href=\"https://akademie.datamics.com/kursliste/\">![title](bg_datamics_top.png)</a>\n",
    "\n",
    "<center><em>© Datamics</em></center><br><center><em>Besuche uns für mehr Informationen auf <a href='https://akademie.datamics.com/kursliste/'>www.akademie.datamics.com</a></em>"
   ]
  },
  {
   "cell_type": "markdown",
   "metadata": {},
   "source": [
    "# Video Grundlagen Übung - Aufgabe\n",
    "\n",
    "* **BEACHTE: Diese Prüfung ist ziemlich schwierig! Du kannst diese Prüfung als freiwillige Übung behandeln und gleich zu den Lösungen weitergehen** \n",
    "\n",
    "## Projektaufgabe\n",
    "\n",
    "**Hier gibt es für dich nur eine Aufgabe zu erfüllen. Erzeuge ein Programm, das den Livestream von der Kamera deines Computers liest (wenn du keine Kamera hast, verwende einfach eine Videodatei). Erzeuge, wo auch immer du mit der linken Maustaste klickst, einen blauen Kreis um die Position des Klicks herum. Wirf einen Blick in das Video als ein Beispiel, wie das finale Projekt aussehen soll.**"
   ]
  },
  {
   "cell_type": "markdown",
   "metadata": {},
   "source": [
    "**Leitfaden**\n",
    "\n",
    "* Entwickle eine Funktion draw_circle für die Callback-Funktion (Rückruffunktion)\n",
    "* Verwende die Events (Ereignisse) cv2.EVENT_LBUTTONDOWN und cv2.EVENT_LBUTTONUP\n",
    "* Verwende eine boolesche Variable um zu verfolgen, wo die Maus heruntergedrückt und losgelassen wurde, basierend auf obigen Events\n",
    "* Verwende ein Tupel, um die X- und Y-Position des Mausklicks zu speichern\n",
    "* Du solltest daraufhin in der Lage sein, einen Kreis auf dem Frame (Einzelbild) um die Koordinaten x und y des Events zu zeichnen\n",
    "\n",
    "Beachte das folgende Grundgerüst als Leitfaden:"
   ]
  },
  {
   "cell_type": "code",
   "execution_count": null,
   "metadata": {},
   "outputs": [],
   "source": [
    "# Erzeuge eine auf einem CV2-Event basierende Funktion (linker Mausklick) \n",
    "\n",
    "# Callback-Funktion der Maus\n",
    "def draw_circle(event,x,y,flags,param):\n",
    "\n",
    "    global center,clicked\n",
    "\n",
    "    # Erhalte einen Mausklick und speichere das Zentrum\n",
    "    \n",
    "    \n",
    "    # Verwende eine boolesche Variable zum Verfolgen, ob die Maustaste losgelassen wurde\n",
    "   \n",
    "\n",
    "        \n",
    "# Es wurde noch nichts gezeichnet!\n",
    "center = (0,0)\n",
    "clicked = False\n",
    "\n",
    "\n",
    "# Zeichne das Video auf\n",
    "\n",
    "\n",
    "# Erzeuge ein benanntes Fenster für Verbindungen\n",
    "\n",
    "\n",
    "# Verknüpfe die draw_circle-Funktion mit Mausklicks\n",
    "\n",
    "\n",
    "\n",
    "while True:\n",
    "    # Erfasse Frame für Frame\n",
    " \n",
    "\n",
    "    # Verwende eine If-Abfrage um zu sehen ob die linke Maustaste gedrückt wurde\n",
    "   \n",
    "        # Zeichne einen Kreis auf dem Frame\n",
    "        \n",
    "        \n",
    "    # Zeige das resultierende Frame an\n",
    "    \n",
    "\n",
    "    # Dieser Befehl lässt uns das Programm beenden durch Drücken der \"q\"-Taste auf der Tastatur.\n",
    "    # Einfach nur das X des Fensters drücken funktioniert nicht!\n",
    "   \n",
    "\n",
    "# Beende die Bilderfassung, wenn alles getan ist\n"
   ]
  }
 ],
 "metadata": {
  "kernelspec": {
   "display_name": "Python 3 (ipykernel)",
   "language": "python",
   "name": "python3"
  },
  "language_info": {
   "codemirror_mode": {
    "name": "ipython",
    "version": 3
   },
   "file_extension": ".py",
   "mimetype": "text/x-python",
   "name": "python",
   "nbconvert_exporter": "python",
   "pygments_lexer": "ipython3",
   "version": "3.7.10"
  }
 },
 "nbformat": 4,
 "nbformat_minor": 2
}
