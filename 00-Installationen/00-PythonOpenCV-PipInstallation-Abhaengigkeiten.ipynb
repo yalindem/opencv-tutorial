{
 "cells": [
  {
   "cell_type": "markdown",
   "metadata": {},
   "source": [
    "<a href=\"https://akademie.datamics.com/kursliste/\">![title](bg_datamics_top.png)</a>\n",
    "\n",
    "<center><em>© Datamics</em></center><br><center><em>Besuche uns für mehr Informationen auf <a href='https://akademie.datamics.com/kursliste/'>www.akademie.datamics.com</a></em>\n",
    "\n",
    "# Installations-Notebook für alle Abhängigkeiten"
   ]
  },
  {
   "cell_type": "markdown",
   "metadata": {},
   "source": [
    "## Update PIP\n",
    "\n",
    "Um Sicherzugehen, dass du die neueste Version von Pip installiert hast, updaten wir in der nächsten Zeile dein Pip Modul. Dies kann einige Minuten dauern, auch wenn du die neuste Pip Version hast.  "
   ]
  },
  {
   "cell_type": "code",
   "execution_count": null,
   "metadata": {},
   "outputs": [],
   "source": [
    "# Dieser Command Update pip auf die neuste stable Version\n",
    "%pip install --upgrade pip"
   ]
  },
  {
   "cell_type": "markdown",
   "metadata": {},
   "source": [
    "### Kapitel: Python Für Data Analysis \n",
    "\n",
    "#### NumPy\n",
    "\n",
    "NumPy (oder Numpy) ist eine Lineare Algebra Library für Python.\n",
    "\n",
    "Anwendung: Mathematische Operationen\n",
    "\n",
    "Vorteile: Schnelligkeit, Weitverbreitet\n",
    "\n",
    "https://docs.scipy.org/doc/numpy/reference/"
   ]
  },
  {
   "cell_type": "code",
   "execution_count": null,
   "metadata": {
    "scrolled": true
   },
   "outputs": [],
   "source": [
    "%pip install numpy"
   ]
  },
  {
   "cell_type": "markdown",
   "metadata": {},
   "source": [
    "#### Pillow\n",
    "Ist eine Bildbibilothek für Python\n",
    "\n",
    "https://pillow.readthedocs.io/en/stable/"
   ]
  },
  {
   "cell_type": "code",
   "execution_count": null,
   "metadata": {},
   "outputs": [],
   "source": [
    "%pip install pillow"
   ]
  },
  {
   "cell_type": "markdown",
   "metadata": {},
   "source": [
    "## Kapitel: Grundlagen-OpenCV-und-Bilder"
   ]
  },
  {
   "cell_type": "markdown",
   "metadata": {},
   "source": [
    "#### OpenCv\n",
    "OpenCV (Open Source Computer Vision Library) ist eine Open-Source-Bibliothek für Computer Vision und Machine Learning-Software. OpenCV wurde entwickelt, um eine gemeinsame Infrastruktur für Computer Vision-Anwendungen bereitzustellen und die Nutzung der maschinellen Wahrnehmung in den kommerziellen Produkten zu beschleunigen. Als BSD-lizenziertes Produkt macht OpenCV es Unternehmen leicht, den Code zu nutzen und zu ändern.\n",
    "\n",
    "Die Bibliothek verfügt über mehr als 2500 optimierte Algorithmen, die ein umfassendes Set an klassischen und modernen Computer Vision- und Machine Learning-Algorithmen beinhalten. Diese Algorithmen können verwendet werden, um Gesichter zu erkennen und zu erkennen, Objekte zu identifizieren, menschliche Handlungen in Videos zu klassifizieren, Kamerabewegungen zu verfolgen, bewegte Objekte zu verfolgen, 3D-Modelle von Objekten zu extrahieren, 3D-Punktwolken von Stereokameras zu erzeugen, Bilder zusammenzufügen, um ein hochauflösendes Bild einer ganzen Szene zu erzeugen, ähnliche Bilder aus einer Bilddatenbank zu finden, rote Augen aus Bildern zu entfernen, die mit Blitz aufgenommen wurden, Augenbewegungen zu folgen, Szenerien zu erkennen und Marker zu setzen, um sie mit Augmented Reality zu überlagern, etc.\n",
    "\n",
    "https://opencv.org/"
   ]
  },
  {
   "cell_type": "code",
   "execution_count": null,
   "metadata": {},
   "outputs": [],
   "source": [
    "# Diese Zelle dauert einige Minuten\n",
    "%pip install opencv-python==4.2.0"
   ]
  },
  {
   "cell_type": "code",
   "execution_count": null,
   "metadata": {
    "scrolled": true
   },
   "outputs": [],
   "source": [
    "%pip install opencv-contrib-python"
   ]
  },
  {
   "cell_type": "code",
   "execution_count": null,
   "metadata": {},
   "outputs": [],
   "source": [
    "%pip install pyqt5"
   ]
  },
  {
   "cell_type": "markdown",
   "metadata": {},
   "source": [
    "#### Matplotlib\n",
    "Matplotlib ist quasi der Großvater der Daten Visualisierung mit Python. Es wurde von John Hunter geschaffen und sollte dazu dienen, die Möglichkeiten, die MatLab (eine weitere Programmiersprache) zur Visualisierung bietet, in Python nachzubilden. Wenn du MatLab kennst, dann wird dir Matplotlib vertraut vorkommen.\n",
    "\n",
    "Es ist eine exzellente 2D und 3D Grafik Library um wissenschaftliche Diagramme zu erzeugen.\n",
    "\n",
    "Einige der größten Vorteile von Matplotlib sind:\n",
    "\n",
    "* Generell ist es einfach mit simplen Plots loszulegen\n",
    "* Es werden eigene Labels und Texte unterstützt\n",
    "* Gute Kontrolle über jedes einzelne Element in einem Diagram\n",
    "* Output in hoher Qualität in viele Formate\n",
    "* Insgesamt sehr anpassbar\n",
    "\n",
    "Matplotlib erlaubt es uns wiederherstellbare Graphen durch Programmieren zu erstellen.\n",
    "\n",
    "[http://matplotlib.org/](http://matplotlib.org/)"
   ]
  },
  {
   "cell_type": "code",
   "execution_count": null,
   "metadata": {},
   "outputs": [],
   "source": [
    "%pip install matplotlib"
   ]
  },
  {
   "cell_type": "markdown",
   "metadata": {},
   "source": [
    "## Kapitel: Deep Learning"
   ]
  },
  {
   "cell_type": "markdown",
   "metadata": {},
   "source": [
    "#### keras\n",
    "Keras ist eine High-Level-API für neuronale Netzwerke, die in Python geschrieben wurde und auf TensorFlow, CNTK oder Theano laufen kann. Es wurde mit dem Ziel entwickelt, schnelles Experimentieren zu ermöglichen. Die Fähigkeit, von der Idee zum Ergebnis mit möglichst geringer Verzögerung zu gelangen, ist der Schlüssel zu einer guten Forschung.\n",
    "\n",
    "https://keras.io/"
   ]
  },
  {
   "cell_type": "code",
   "execution_count": null,
   "metadata": {},
   "outputs": [],
   "source": [
    "%pip install keras"
   ]
  },
  {
   "cell_type": "markdown",
   "metadata": {},
   "source": [
    "#### scipy\n",
    "\n",
    "SciPy (ausgesprochen \"Sigh Pie\") ist ein Python-basiertes Ökosystem aus Open-Source-Software für Mathematik, Naturwissenschaften und Technik. Dies sind insbesondere einige der Kernpakete:\n",
    "\n",
    "NumPy - Base N-dimensional array package\n",
    "SciPy -  library Fundamental library for scientific computing\n",
    "matplotlib - Comprehensive 2D Plotting\n",
    "ipython - Enhanced Interactive Console\n",
    "sympy - Symbolic mathematics\n",
    "pandas - Data structures & analysis\n",
    "\n",
    "https://www.scipy.org/"
   ]
  },
  {
   "cell_type": "code",
   "execution_count": null,
   "metadata": {},
   "outputs": [],
   "source": [
    "%pip install scipy"
   ]
  },
  {
   "cell_type": "markdown",
   "metadata": {},
   "source": [
    "#### sklearn\n",
    "* Einfache und effiziente Tools für Data Mining und Datenanalyse\n",
    "* Für jedermann zugänglich und in verschiedenen Kontexten wiederverwendbar.\n",
    "* Aufbauend auf NumPy, SciPy und matplotlib\n",
    "* Open Source, kommerziell nutzbar - BSD-Lizenz\n",
    "\n",
    "https://scikit-learn.org/stable/"
   ]
  },
  {
   "cell_type": "code",
   "execution_count": null,
   "metadata": {},
   "outputs": [],
   "source": [
    "%pip install scikit-learn"
   ]
  },
  {
   "cell_type": "markdown",
   "metadata": {},
   "source": [
    "### Neustarten des Python-Kernels\n",
    "Um alle installieren Packete und Bibliotheken zu verwenden muss der Python-Kernel von Jupyter Notebook neugestartet werden. "
   ]
  },
  {
   "cell_type": "code",
   "execution_count": null,
   "metadata": {},
   "outputs": [],
   "source": [
    "# Diese Zelle starte den Kernel neu\n",
    "from IPython.display import display_html\n",
    "def restartkernel() :\n",
    "    display_html(\"<script>Jupyter.notebook.kernel.restart()</script>\",raw=True)\n",
    "\n",
    "\n",
    "restartkernel()    "
   ]
  }
 ],
 "metadata": {
  "kernelspec": {
   "display_name": "Python 3 (ipykernel)",
   "language": "python",
   "name": "python3"
  },
  "language_info": {
   "codemirror_mode": {
    "name": "ipython",
    "version": 3
   },
   "file_extension": ".py",
   "mimetype": "text/x-python",
   "name": "python",
   "nbconvert_exporter": "python",
   "pygments_lexer": "ipython3",
   "version": "3.8.10"
  }
 },
 "nbformat": 4,
 "nbformat_minor": 2
}
