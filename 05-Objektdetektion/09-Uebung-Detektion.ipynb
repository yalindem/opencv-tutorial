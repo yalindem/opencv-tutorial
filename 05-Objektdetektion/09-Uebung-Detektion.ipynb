{
 "cells": [
  {
   "cell_type": "markdown",
   "metadata": {},
   "source": [
    "<a href=\"https://akademie.datamics.com/kursliste/\">![title](bg_datamics_top.png)</a>\n",
    "\n",
    "<center><em>© Datamics</em></center><br><center><em>Besuche uns für mehr Informationen auf <a href='https://akademie.datamics.com/kursliste/'>www.akademie.datamics.com</a></em>"
   ]
  },
  {
   "cell_type": "markdown",
   "metadata": {},
   "source": [
    "# Objektdetektion Projekt Übung - Aufgabe\n",
    "\n",
    "## Verschleiern von russischen Nummernschildern\n",
    "\n",
    "Willkommen zu deinem Objekterkennungsprojekt! Dein Ziel ist es, Haar-Kaskaden anzuwenden, um die in einem Bild erkannten Nummerschilder zu verschleiern!\n",
    "\n",
    "Russen sind dafür bekannt, einige der unterhaltsamsten Dashcam-Videoaufzeichnungen des Internets bereit zu stellen (Ich  möchte dich dazu anregen, auf Google nach \"Russian Dashcam\" zu suchen). Unglücklicherweise enthalten die meisten Aufzeichnungen Nummernschilder, vielleicht können wir aushelfen und ein Nummernschilderverschleierungstool erstellen?\n",
    "\n",
    "OpenCV kommt mit einer .xml-Datei zur Erkennung russischer Nummernschilder, die wir wie die Gesichtsdetektionsdateien verwenden können. (Unglücklicherweise kommt es nicht mit Detektoren für die Nummernschilder anderer Länder!)\n",
    "\n",
    "\n",
    "----\n",
    "\n",
    "\n",
    "#### 3 Herangehensweisen für dieses Projekt:\n",
    "* Leg' einfach los! Verwende das Bild car_plate.jpg im Verzeichnis DATA und erzeuge eine Funktion, die das Bild des Nummernschildes verschleiert. Durchsuche das Verzeichnis mit Haar-Kaskaden und finde die korrekte, vortrainierte .xml-Datei.\n",
    "* Verwende dieses Notebook! Hier bieten wir einen Leitfaden mit den wichtigsten Schritten, die du vornehmen solltest, um das Projekt zu vervollständigen.\n",
    "* Springe zu dem Lösungs-Notebook und Video und betrachte dieses ganze Projekt als eine freiwillige Coding-Übung mit uns.\n",
    "\n",
    "## Projektleitfaden\n",
    "\n",
    "Vervollständige die untenstehenden Aufgaben, um das Projekt fertig zu stellen!"
   ]
  },
  {
   "cell_type": "markdown",
   "metadata": {},
   "source": [
    "**AUFGABE: Importiere die üblichen Bibliotheken, von denen du denkst, dass du sie brauchst.**"
   ]
  },
  {
   "cell_type": "code",
   "execution_count": null,
   "metadata": {},
   "outputs": [],
   "source": []
  },
  {
   "cell_type": "markdown",
   "metadata": {},
   "source": [
    "**AUFGABE: Öffne die Datei car_plate.jpg aus dem Verzeichnis DATA.**"
   ]
  },
  {
   "cell_type": "code",
   "execution_count": null,
   "metadata": {},
   "outputs": [],
   "source": []
  },
  {
   "cell_type": "markdown",
   "metadata": {},
   "source": [
    "**AUFGABE: Erzeuge eine Funktion, die das Bild vergrößert anzeigt und korrigiere das Farbschema für Matplotlib.**"
   ]
  },
  {
   "cell_type": "code",
   "execution_count": 1,
   "metadata": {},
   "outputs": [],
   "source": [
    "def display(img):\n",
    "    # Füll mich aus!\n",
    "    pass"
   ]
  },
  {
   "cell_type": "code",
   "execution_count": 2,
   "metadata": {},
   "outputs": [
    {
     "ename": "NameError",
     "evalue": "name 'img' is not defined",
     "output_type": "error",
     "traceback": [
      "\u001b[1;31m---------------------------------------------------------------------------\u001b[0m",
      "\u001b[1;31mNameError\u001b[0m                                 Traceback (most recent call last)",
      "\u001b[1;32m<ipython-input-2-10228b7e5c2d>\u001b[0m in \u001b[0;36m<module>\u001b[1;34m\u001b[0m\n\u001b[1;32m----> 1\u001b[1;33m \u001b[0mdisplay\u001b[0m\u001b[1;33m(\u001b[0m\u001b[0mimg\u001b[0m\u001b[1;33m)\u001b[0m\u001b[1;33m\u001b[0m\u001b[1;33m\u001b[0m\u001b[0m\n\u001b[0m",
      "\u001b[1;31mNameError\u001b[0m: name 'img' is not defined"
     ]
    }
   ],
   "source": [
    "display(img)"
   ]
  },
  {
   "cell_type": "markdown",
   "metadata": {},
   "source": [
    "**AUFGABE: Lade die Datei haarcascade_russian_plate_number.xml.**"
   ]
  },
  {
   "cell_type": "code",
   "execution_count": null,
   "metadata": {},
   "outputs": [],
   "source": []
  },
  {
   "cell_type": "markdown",
   "metadata": {},
   "source": [
    "**AUFGABE: Erzeuge eine Funktion, die ein Eingabebild annimmt und, wenn vorhanden, ein Rechteck um das detektierte Nummernschild zeichnet. Behalte im Hinterkopf, dass wir nun lediglich ein Rechteck darum zeichnen, später passen wir diese Funktion zum Verschleiern an. Wenn du möchtest, spiele mit den Parametern scaleFactor und minNeighbor, um gute Ergebnisse zu erhalten.**"
   ]
  },
  {
   "cell_type": "code",
   "execution_count": null,
   "metadata": {},
   "outputs": [],
   "source": [
    "def detect_plate(img):\n",
    "    \n",
    "  \n",
    "    # Füll mich aus!\n",
    "    pass"
   ]
  },
  {
   "cell_type": "code",
   "execution_count": null,
   "metadata": {},
   "outputs": [],
   "source": [
    "result = detect_plate(img)"
   ]
  },
  {
   "cell_type": "code",
   "execution_count": null,
   "metadata": {},
   "outputs": [],
   "source": [
    "display(result)"
   ]
  },
  {
   "cell_type": "markdown",
   "metadata": {},
   "source": [
    "**LETZTE AUFGABE: Editiere die Funktion, so dass sie das detektierte Nummernschild verschleiert, anstatt nur ein Rechteck darum zu zeichnen. Führe hierzu nach belieben die folgenden Schritte aus:**\n",
    "\n",
    "1. Am schwersten ist es, die (x,y,w,h)-Information in die Dimension zu konvertieren, die du brauchst, um die ROI zu finden (dies haben wir behandelt in der Lektion 01-Verschmelzen-und-Einfügen-von-Bildern. Es ist lediglich [Numpy Slicing](https://stackoverflow.com/questions/15589517/how-to-crop-an-image-in-opencv-using-python), du must nur die Information über die rechte, obere Ecke des Rechtecks in indizierbare Positionswerte umwandeln.)\n",
    "2. Nachdem die ROI mit den (x,y,w,h)-Werten ermittelt wurde, willst du die ROI verschleiern. Du kannst cv2.medianBlur hierzu verwenden.\n",
    "3. Nachem du jetzt eine verschleierte Version der ROI (das Nummernschild) hast, willst du dieses verschleierte Bild auf dem Originalbild an der Ursprungsstelle einfügen. Verwende hierzu einfach Numpy-Indizierung und Slicing und weise diesem Bereich im Originalbild die verschleierte ROI zu."
   ]
  },
  {
   "cell_type": "code",
   "execution_count": null,
   "metadata": {},
   "outputs": [],
   "source": [
    "def detect_and_blur_plate(img):\n",
    "    \n",
    "    # Füll mich aus!\n",
    "    pass\n",
    "    "
   ]
  },
  {
   "cell_type": "code",
   "execution_count": null,
   "metadata": {},
   "outputs": [],
   "source": [
    "result = detect_and_blur_plate(img)"
   ]
  },
  {
   "cell_type": "code",
   "execution_count": null,
   "metadata": {},
   "outputs": [],
   "source": [
    "display(result)"
   ]
  },
  {
   "cell_type": "markdown",
   "metadata": {},
   "source": [
    "# Gut gemacht!"
   ]
  }
 ],
 "metadata": {
  "kernelspec": {
   "display_name": "Python 3 (ipykernel)",
   "language": "python",
   "name": "python3"
  },
  "language_info": {
   "codemirror_mode": {
    "name": "ipython",
    "version": 3
   },
   "file_extension": ".py",
   "mimetype": "text/x-python",
   "name": "python",
   "nbconvert_exporter": "python",
   "pygments_lexer": "ipython3",
   "version": "3.7.10"
  }
 },
 "nbformat": 4,
 "nbformat_minor": 2
}
