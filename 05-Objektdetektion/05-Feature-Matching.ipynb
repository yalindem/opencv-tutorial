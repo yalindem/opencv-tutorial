{
 "cells": [
  {
   "cell_type": "markdown",
   "metadata": {},
   "source": [
    "<a href=\"https://akademie.datamics.com/kursliste/\">![title](bg_datamics_top.png)</a>\n",
    "\n",
    "<center><em>© Datamics</em></center><br><center><em>Besuche uns für mehr Informationen auf <a href='https://akademie.datamics.com/kursliste/'>www.akademie.datamics.com</a></em>"
   ]
  },
  {
   "cell_type": "markdown",
   "metadata": {},
   "source": [
    "# Feature Matching (Merkmalabgleich)"
   ]
  },
  {
   "cell_type": "code",
   "execution_count": null,
   "metadata": {},
   "outputs": [],
   "source": [
    "import cv2\n",
    "import numpy as np\n",
    "import matplotlib.pyplot as plt\n",
    "%matplotlib inline"
   ]
  },
  {
   "cell_type": "code",
   "execution_count": null,
   "metadata": {},
   "outputs": [],
   "source": [
    "def display(img,cmap='gray'):\n",
    "    fig = plt.figure(figsize=(12,10))\n",
    "    ax = fig.add_subplot(111)\n",
    "    ax.imshow(img,cmap='gray')"
   ]
  },
  {
   "cell_type": "code",
   "execution_count": null,
   "metadata": {},
   "outputs": [],
   "source": [
    "reeses = cv2.imread('../DATA/reeses_puffs.png',0)     "
   ]
  },
  {
   "cell_type": "code",
   "execution_count": null,
   "metadata": {},
   "outputs": [],
   "source": [
    "display(reeses)"
   ]
  },
  {
   "cell_type": "code",
   "execution_count": null,
   "metadata": {},
   "outputs": [],
   "source": [
    "cereals = cv2.imread('../DATA/many_cereals.jpg',0) "
   ]
  },
  {
   "cell_type": "code",
   "execution_count": null,
   "metadata": {},
   "outputs": [],
   "source": [
    "display(cereals)"
   ]
  },
  {
   "cell_type": "markdown",
   "metadata": {},
   "source": [
    "--------\n",
    "# Brute Force-Erkennung mit ORB Deskriptoren (Descriptors)"
   ]
  },
  {
   "cell_type": "code",
   "execution_count": null,
   "metadata": {},
   "outputs": [],
   "source": [
    "# Initiiere ORB-Detektor\n",
    "orb = cv2.ORB_create()\n",
    "\n",
    "# Finde die Schlüsselpunkte (keypoints) und Deskriptoren mit ORB\n",
    "kp1, des1 = orb.detectAndCompute(reeses,None)\n",
    "kp2, des2 = orb.detectAndCompute(cereals,None)\n",
    "\n",
    "# Erzeuge BFMatcher-Objekt\n",
    "bf = cv2.BFMatcher(cv2.NORM_HAMMING, crossCheck=True)\n",
    "\n",
    "# Vergleiche die Deskriptoren.\n",
    "matches = bf.match(des1,des2)\n",
    "\n",
    "# Sortiere sie in der Reihenfolge ihrer Distanz\n",
    "matches = sorted(matches, key = lambda x:x.distance)\n",
    "\n",
    "# Zeichne die ersten 25 Treffer.\n",
    "reeses_matches = cv2.drawMatches(reeses,kp1,cereals,kp2,matches[:25],None,flags=2)"
   ]
  },
  {
   "cell_type": "code",
   "execution_count": null,
   "metadata": {},
   "outputs": [],
   "source": [
    "display(reeses_matches)"
   ]
  },
  {
   "cell_type": "markdown",
   "metadata": {},
   "source": [
    "# Brute-Force-Erkennung mit SIFT-Deskriptoren und Ratio-Test"
   ]
  },
  {
   "cell_type": "code",
   "execution_count": null,
   "metadata": {},
   "outputs": [],
   "source": [
    "# Erzeuge ein SIFT-Object\n",
    "sift = cv2.xfeatures2d.SIFT_create()\n",
    "\n",
    "# Finde die Schlüsselpunkte und Deskriptoren mit SIFT\n",
    "kp1, des1 = sift.detectAndCompute(reeses,None)\n",
    "kp2, des2 = sift.detectAndCompute(cereals,None)\n",
    "\n",
    "# BFMatcher mit Standardparameters\n",
    "bf = cv2.BFMatcher()\n",
    "matches = bf.knnMatch(des1,des2, k=2)\n",
    "\n",
    "# Wende das Quotientenkriterium (Ratio-Test) an\n",
    "good = []\n",
    "for match1,match2 in matches:\n",
    "    if match1.distance < 0.75*match2.distance:\n",
    "        good.append([match1])\n",
    "\n",
    "# cv2.drawMatchesKnn erwartet eine Liste aus Listen als Treffer.\n",
    "sift_matches = cv2.drawMatchesKnn(reeses,kp1,cereals,kp2,good,None,flags=2)"
   ]
  },
  {
   "cell_type": "code",
   "execution_count": null,
   "metadata": {},
   "outputs": [],
   "source": [
    "display(sift_matches)"
   ]
  },
  {
   "cell_type": "markdown",
   "metadata": {},
   "source": [
    "# FLANN-basierter Vergleicher (Matcher)"
   ]
  },
  {
   "cell_type": "code",
   "execution_count": null,
   "metadata": {},
   "outputs": [],
   "source": [
    "# Initiiere SIFT-Detektor\n",
    "sift = cv2.xfeatures2d.SIFT_create()\n",
    "\n",
    "# Finde die Schlüsselpunkte und Deskriptoren mit SIFT\n",
    "kp1, des1 = sift.detectAndCompute(reeses,None)\n",
    "kp2, des2 = sift.detectAndCompute(cereals,None)\n",
    "\n",
    "# FLANN Parameter\n",
    "FLANN_INDEX_KDTREE = 0\n",
    "index_params = dict(algorithm = FLANN_INDEX_KDTREE, trees = 5)\n",
    "search_params = dict(checks=50)  \n",
    "\n",
    "flann = cv2.FlannBasedMatcher(index_params,search_params)\n",
    "\n",
    "matches = flann.knnMatch(des1,des2,k=2)\n",
    "\n",
    "good = []\n",
    "\n",
    "# Quotientenkriterium (Ratio-Test)\n",
    "for i,(match1,match2) in enumerate(matches):\n",
    "    if match1.distance < 0.7*match2.distance:\n",
    "        \n",
    "        good.append([match1])\n",
    "\n",
    "\n",
    "flann_matches = cv2.drawMatchesKnn(reeses,kp1,cereals,kp2,good,None,flags=0)\n",
    "\n",
    "display(flann_matches)"
   ]
  },
  {
   "cell_type": "code",
   "execution_count": null,
   "metadata": {},
   "outputs": [],
   "source": [
    "# Initiiere SIFT-Detektor\n",
    "sift = cv2.xfeatures2d.SIFT_create()\n",
    "\n",
    "# Finde die Schlüsselpunkte und Deskriptoren mit SIFT\n",
    "kp1, des1 = sift.detectAndCompute(reeses,None)\n",
    "kp2, des2 = sift.detectAndCompute(cereals,None)\n",
    "\n",
    "# FLANN Parameter\n",
    "FLANN_INDEX_KDTREE = 0\n",
    "index_params = dict(algorithm = FLANN_INDEX_KDTREE, trees = 5)\n",
    "search_params = dict(checks=50)  \n",
    "\n",
    "flann = cv2.FlannBasedMatcher(index_params,search_params)\n",
    "\n",
    "matches = flann.knnMatch(des1,des2,k=2)\n",
    "\n",
    "# Es sollen nur gute Treffer gezeichnet werden, daher wird eine Maske kreiert\n",
    "matchesMask = [[0,0] for i in range(len(matches))]\n",
    "\n",
    "# Quotientenkriterium (Ratio-Test)\n",
    "for i,(match1,match2) in enumerate(matches):\n",
    "    if match1.distance < 0.7*match2.distance:\n",
    "        matchesMask[i]=[1,0]\n",
    "\n",
    "draw_params = dict(matchColor = (0,255,0),\n",
    "                   singlePointColor = (255,0,0),\n",
    "                   matchesMask = matchesMask,\n",
    "                   flags = 0)\n",
    "\n",
    "flann_matches = cv2.drawMatchesKnn(reeses,kp1,cereals,kp2,matches,None,**draw_params)"
   ]
  },
  {
   "cell_type": "code",
   "execution_count": null,
   "metadata": {},
   "outputs": [],
   "source": [
    "display(flann_matches)"
   ]
  }
 ],
 "metadata": {
  "kernelspec": {
   "display_name": "Python 3 (ipykernel)",
   "language": "python",
   "name": "python3"
  },
  "language_info": {
   "codemirror_mode": {
    "name": "ipython",
    "version": 3
   },
   "file_extension": ".py",
   "mimetype": "text/x-python",
   "name": "python",
   "nbconvert_exporter": "python",
   "pygments_lexer": "ipython3",
   "version": "3.7.10"
  }
 },
 "nbformat": 4,
 "nbformat_minor": 2
}
