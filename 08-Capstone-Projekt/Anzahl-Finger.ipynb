{
 "cells": [
  {
   "cell_type": "markdown",
   "metadata": {},
   "source": [
    "<a href=\"https://akademie.datamics.com/kursliste/\">![title](bg_datamics_top.png)</a>\n",
    "\n",
    "<center><em>© Datamics</em></center><br><center><em>Besuche uns für mehr Informationen auf <a href='https://akademie.datamics.com/kursliste/'>www.akademie.datamics.com</a></em>"
   ]
  },
  {
   "cell_type": "markdown",
   "metadata": {},
   "source": [
    "# Projekt Capstone\n",
    "\n",
    "## Finger erkennen und zählen"
   ]
  },
  {
   "cell_type": "markdown",
   "metadata": {},
   "source": [
    "## Importe"
   ]
  },
  {
   "cell_type": "code",
   "execution_count": 1,
   "metadata": {},
   "outputs": [],
   "source": [
    "import cv2\n",
    "import numpy as np\n",
    "\n",
    "# Wird für die Distanzberechnung später gebraucht\n",
    "from sklearn.metrics import pairwise"
   ]
  },
  {
   "cell_type": "markdown",
   "metadata": {},
   "source": [
    "### Globale Variablen\n",
    "\n",
    "# Wir werden diese später verwenden."
   ]
  },
  {
   "cell_type": "code",
   "execution_count": 1,
   "metadata": {},
   "outputs": [],
   "source": [
    "# Dieser Hintergrund wird eine globale Variable, die wir später durch ein paar Funktionen aktualisieren\n",
    "background = None\n",
    "\n",
    "# Starte mit dem Mittelwert zwischen 0 und 1 des akkumulierten Gewichtes\n",
    "accumulated_weight = 0.5\n",
    "\n",
    "\n",
    "# Setze die ROI manuell zum Finden der Hand.\n",
    "# Ändere diese nach belieben. Ich habe nur die rechte obere Ecke zum Filmen gewählt.\n",
    "roi_top = 20\n",
    "roi_bottom = 300\n",
    "roi_right = 300\n",
    "roi_left = 600\n",
    "\n"
   ]
  },
  {
   "cell_type": "markdown",
   "metadata": {},
   "source": [
    "## Finde den durchschnittlichen Hintergrundwert\n",
    "\n",
    "Diese Funktion berechnet die gewichtete Summe der Eingabebildquelle src und dem Akkumulator dst, so dass dst der laufende Mittelwert eine Framesequenz wird."
   ]
  },
  {
   "cell_type": "code",
   "execution_count": 3,
   "metadata": {},
   "outputs": [],
   "source": [
    "def calc_accum_avg(frame, accumulated_weight):\n",
    "    '''\n",
    "    Berechne den gemittelten Durchschnitt des übergebenen Bildes basierend auf dem vorher akkumuliertem Gewicht.\n",
    "    '''\n",
    "    \n",
    "    # Nimm den Hintergrund\n",
    "    global background\n",
    "    \n",
    "    # Erzeuge den Hintergrund aus einer Kopie des Frames beim ersten Mal\n",
    "    if background is None:\n",
    "        background = frame.copy().astype(\"float\")\n",
    "        return None\n",
    "\n",
    "    # Berechne den gewichteten Mittelwert, akkumuliere ihn und aktualisiere den Hintergrund\n",
    "    cv2.accumulateWeighted(frame, background, accumulated_weight)"
   ]
  },
  {
   "cell_type": "markdown",
   "metadata": {},
   "source": [
    "## Segmentiere die Handregion im Frame"
   ]
  },
  {
   "cell_type": "code",
   "execution_count": 4,
   "metadata": {},
   "outputs": [],
   "source": [
    "def segment(frame, threshold=25):\n",
    "    global background\n",
    "    \n",
    "    # Berechne die absolute Differenz zwischen Hintergrund und dem übergebenen Frame\n",
    "    diff = cv2.absdiff(background.astype(\"uint8\"), frame)\n",
    "\n",
    "    # Wende einen Grenzwert auf das Bild an, um den Vordergrund zu erhalten\n",
    "    # Wir brauchen nur den Grenzwert, daher werfen wir das erste Element im Tupel mit dem Unterstrich _ weg\n",
    "    _ , thresholded = cv2.threshold(diff, threshold, 255, cv2.THRESH_BINARY)\n",
    "\n",
    "    # Nimm die externen Konturen des Bildes\n",
    "    # Auch hier wird nur genommen, was wir brauchen, und der Rest weggeworfen\n",
    "    image, contours, hierarchy = cv2.findContours(thresholded.copy(), cv2.RETR_EXTERNAL, cv2.CHAIN_APPROX_SIMPLE)\n",
    "\n",
    "    # Wenn die Länge der Liste 0 ist, wurden keine Konturen gefunden!\n",
    "    if len(contours) == 0:\n",
    "        return None\n",
    "    else:\n",
    "        # So wie wir das Programm benutzen, sollte die größte, externe Kontur die Hand sein (nach Fläche)\n",
    "        # Dies wird unser Segment sein\n",
    "        hand_segment = max(contours, key=cv2.contourArea)\n",
    "        \n",
    "        # Gib sowohl das Handsegment als auch das Grenzwertbild der Hand zurück\n",
    "        return (thresholded, hand_segment)"
   ]
  },
  {
   "cell_type": "markdown",
   "metadata": {},
   "source": [
    "## Finger mit einer konvexen Hülle zählen\n",
    "\n",
    "Wir haben gerade die externe Kontur einer Hand berechnet. Unter Verwendung dieser segmentierten Hand, lass uns herausfinden, wie die Finger gezählt werden können. Dann zählen wir, wie viele ausgestreckt sind!\n",
    "\n",
    "Beispiele konvexer Hüllen:\n",
    "\n",
    "<img src=\"hand_convex.png\">"
   ]
  },
  {
   "cell_type": "code",
   "execution_count": 5,
   "metadata": {},
   "outputs": [],
   "source": [
    "def count_fingers(thresholded, hand_segment):\n",
    "    \n",
    "    # Berechne die konvexe Hülle des Handsegmentes\n",
    "    conv_hull = cv2.convexHull(hand_segment)\n",
    "    \n",
    "    # Die konvexe Hülle hat jetzt mindestens 4 äußerste Punkte, oben, unten, links und rechts.\n",
    "    # Lass uns diese Punkte nehmen mit argmin und argmax. Bedenke, dies wird das Lesen der Dokumentation \n",
    "    # und das Verstehen der von convexHull zurückgegebenen allgemeinen Array-Form bedürfen.\n",
    "\n",
    "    # Finde oben, unten, links und rechts\n",
    "    # Stelle sicher, dass sie im Tupel-Format vorliegen\n",
    "    top    = tuple(conv_hull[conv_hull[:, :, 1].argmin()][0])\n",
    "    bottom = tuple(conv_hull[conv_hull[:, :, 1].argmax()][0])\n",
    "    left   = tuple(conv_hull[conv_hull[:, :, 0].argmin()][0])\n",
    "    right  = tuple(conv_hull[conv_hull[:, :, 0].argmax()][0])\n",
    "\n",
    "    # In der Theorie ist der Handmittelpunkt mittig zwischen oben und unten und mittig zwischen links und rechts\n",
    "    cX = (left[0] + right[0]) // 2\n",
    "    cY = (top[1] + bottom[1]) // 2\n",
    "\n",
    "    # Finde die maximale euklidische Distanz zwischen dem Handmittelpunkt und den extremsten Punkten der konvexen Hülle\n",
    "\n",
    "    # Berechne die euklidische Distanz zwischen dem Mittelpunkt der Hand und links, rechts, oben und unten.\n",
    "    distance = pairwise.euclidean_distances([(cX, cY)], Y=[left, right, top, bottom])[0]\n",
    "    \n",
    "    # Nimm die größte Entfernung\n",
    "    max_distance = distance.max()\n",
    "    \n",
    "    # Erzeuge einen Kreis mit 90% Radius der maximalen euklidischen Distanz\n",
    "    radius = int(0.8 * max_distance)\n",
    "    circumference = (2 * np.pi * radius)\n",
    "\n",
    "    # Erzeuge jetzt einen ROI nur dieses Kreises\n",
    "    circular_roi = np.zeros(thresholded.shape[:2], dtype=\"uint8\")\n",
    "    \n",
    "    # Zeichne die kreisförmige ROI\n",
    "    cv2.circle(circular_roi, (cX, cY), radius, 255, 10)\n",
    "    \n",
    "    \n",
    "    # Verwende bit-weises AND mit dem ROI-Kreis als Maske\n",
    "    # Dies gibt dann den Ausschnitt zurück von der Anwendung der Maske auf das Grenzwertbild.\n",
    "    circular_roi = cv2.bitwise_and(thresholded, thresholded, mask=circular_roi)\n",
    "\n",
    "    # Nimm die Konturen im ROI-Kreis\n",
    "    image, contours, hierarchy = cv2.findContours(circular_roi.copy(), cv2.RETR_EXTERNAL, cv2.CHAIN_APPROX_NONE)\n",
    "\n",
    "    # Fingerzähler startet mit 0\n",
    "    count = 0\n",
    "\n",
    "    # Iteriere über die Konturen, um zu sehen, ob wir mehr Finger zählen können\n",
    "    for cnt in contours:\n",
    "        \n",
    "        # Begrenzungsbox der Kontur\n",
    "        (x, y, w, h) = cv2.boundingRect(cnt)\n",
    "\n",
    "        # Erhöhe die Anzahl von Fingern basierend auf zwei Konditionen:\n",
    "        \n",
    "        # 1. Die Kontur ist nicht im untersten Bereich der Hand (Handgelenk)\n",
    "        out_of_wrist = ((cY + (cY * 0.25)) > (y + h))\n",
    "        \n",
    "        # 2. Die Anzahl von Punkten entlang der Kontur ist nicht größer als 25% des Umfangs des ROI-Kreises (sonst zählen wir Punkte von der Hand)\n",
    "        limit_points = ((circumference * 0.25) > cnt.shape[0])\n",
    "        \n",
    "        \n",
    "        if  out_of_wrist and limit_points:\n",
    "            count += 1\n",
    "\n",
    "    return count"
   ]
  },
  {
   "cell_type": "markdown",
   "metadata": {},
   "source": [
    "## Programm ausführen"
   ]
  },
  {
   "cell_type": "code",
   "execution_count": 10,
   "metadata": {},
   "outputs": [],
   "source": [
    "cam = cv2.VideoCapture(0)\n",
    "\n",
    "# Intialisiere einen Framezähler\n",
    "num_frames = 0\n",
    "\n",
    "# Schleife läuft endlos bis zu einer Unterbrechung\n",
    "while True:\n",
    "    # Nimm den derzeitige Frame\n",
    "    ret, frame = cam.read()\n",
    "\n",
    "    # Drehe den Frame, so dass es nicht gespiegelt ist.\n",
    "    frame = cv2.flip(frame, 1)\n",
    "\n",
    "    # Kopiere den Frame\n",
    "    frame_copy = frame.copy()\n",
    "\n",
    "    # Nimm die ROI des Frames\n",
    "    roi = frame[roi_top:roi_bottom, roi_right:roi_left]\n",
    "\n",
    "    # Konvertiere die ROI in Graustufen und füge Unschärfe hinzu\n",
    "    gray = cv2.cvtColor(roi, cv2.COLOR_BGR2GRAY)\n",
    "    gray = cv2.GaussianBlur(gray, (7, 7), 0)\n",
    "\n",
    "    # Für die ersten 30 Frames werden wir den Durchschnitt des Hintergrunds berechnen\n",
    "    # Wir sagen das dem Nutzer, so lange es passiert\n",
    "    if num_frames < 60:\n",
    "        calc_accum_avg(gray, accumulated_weight)\n",
    "        if num_frames <= 59:\n",
    "            cv2.putText(frame_copy, \"WAIT! GETTING BACKGROUND AVG.\", (200, 400), cv2.FONT_HERSHEY_SIMPLEX, 1, (0,0,255), 2)\n",
    "            cv2.imshow(\"Finger Count\",frame_copy)\n",
    "            \n",
    "    else:\n",
    "        # Mit dem erhaltenen Hintergrund können wir jetzt die Hand segmentieren.\n",
    "        \n",
    "        # Segmentiere die Handregion\n",
    "        hand = segment(gray)\n",
    "\n",
    "        # Überprüfe zuerst, ob wir eine Hand erkannt haben\n",
    "        if hand is not None:\n",
    "            \n",
    "            # Teile auf\n",
    "            thresholded, hand_segment = hand\n",
    "\n",
    "            # Zeichne Konturen um das Handsegment\n",
    "            cv2.drawContours(frame_copy, [hand_segment + (roi_right, roi_top)], -1, (255, 0, 0),1)\n",
    "\n",
    "            # Zähle die Finger\n",
    "            fingers = count_fingers(thresholded, hand_segment)\n",
    "\n",
    "            # Zeige die Anzahl an\n",
    "            cv2.putText(frame_copy, str(fingers), (70, 45), cv2.FONT_HERSHEY_SIMPLEX, 1, (0,0,255), 2)\n",
    "\n",
    "            # Zeige auch das Grenzwertbild an\n",
    "            cv2.imshow(\"Thesholded\", thresholded)\n",
    "\n",
    "    # Zeichne das Rechteck des ROIs auf die Kopie des Frames\n",
    "    cv2.rectangle(frame_copy, (roi_left, roi_top), (roi_right, roi_bottom), (0,0,255), 5)\n",
    "\n",
    "    # Erhöhe den Framezähler\n",
    "    num_frames += 1\n",
    "\n",
    "    # Zeige das Frame mit segmentierter Hand\n",
    "    cv2.imshow(\"Finger Count\", frame_copy)\n",
    "\n",
    "\n",
    "    # Schließe das Fenster mit Esc\n",
    "    k = cv2.waitKey(1) & 0xFF\n",
    "\n",
    "    if k == 27:\n",
    "        break\n",
    "\n",
    "# Gib die Kamera frei und zerstöre alle Fenster\n",
    "cam.release()\n",
    "cv2.destroyAllWindows()"
   ]
  }
 ],
 "metadata": {
  "kernelspec": {
   "display_name": "Python 3 (ipykernel)",
   "language": "python",
   "name": "python3"
  },
  "language_info": {
   "codemirror_mode": {
    "name": "ipython",
    "version": 3
   },
   "file_extension": ".py",
   "mimetype": "text/x-python",
   "name": "python",
   "nbconvert_exporter": "python",
   "pygments_lexer": "ipython3",
   "version": "3.7.10"
  }
 },
 "nbformat": 4,
 "nbformat_minor": 2
}
