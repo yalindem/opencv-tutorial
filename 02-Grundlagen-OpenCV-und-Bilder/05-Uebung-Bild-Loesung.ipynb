{
 "cells": [
  {
   "cell_type": "markdown",
   "metadata": {},
   "source": [
    "<a href=\"https://akademie.datamics.com/kursliste/\">![title](bg_datamics_top.png)</a>\n",
    "\n",
    "<center><em>© Datamics</em></center><br><center><em>Besuche uns für mehr Informationen auf <a href='https://akademie.datamics.com/kursliste/'>www.akademie.datamics.com</a></em>"
   ]
  },
  {
   "cell_type": "markdown",
   "metadata": {},
   "source": [
    "# Bild Übung - Lösung\n",
    "\n",
    "## Bitte vervollständige die untenstehenden, fett markierten Aufgaben. Beachte dabei, dass gegebenenfalls manche dieser Aufgaben als Python-Skripte ausgeführt werden müssen."
   ]
  },
  {
   "cell_type": "markdown",
   "metadata": {},
   "source": [
    "----------\n",
    "### AUFGABE: Öffne das Bild *dog_backpack.jpg* aus dem DATA-Verzeichnes und zeige es in diesem Notebook an. Beachte, dass die Pixel in der Reihenfolge RGB vorliegen müssen."
   ]
  },
  {
   "cell_type": "code",
   "execution_count": null,
   "metadata": {},
   "outputs": [],
   "source": [
    "import cv2\n",
    "import numpy as np\n",
    "import matplotlib.pyplot as plt\n",
    "%matplotlib inline"
   ]
  },
  {
   "cell_type": "code",
   "execution_count": null,
   "metadata": {},
   "outputs": [],
   "source": [
    "img = cv2.imread(\"../DATA/dog_backpack.png\")"
   ]
  },
  {
   "cell_type": "code",
   "execution_count": null,
   "metadata": {},
   "outputs": [],
   "source": [
    "# Falsche RGB-Reihenfolge!\n",
    "plt.imshow(img)"
   ]
  },
  {
   "cell_type": "code",
   "execution_count": null,
   "metadata": {},
   "outputs": [],
   "source": [
    "img_rgb = cv2.cvtColor(img, cv2.COLOR_BGR2RGB)\n",
    "plt.imshow(img_rgb)"
   ]
  },
  {
   "cell_type": "markdown",
   "metadata": {},
   "source": [
    "#### AUFGABE: Stelle das Bild auf den Kopf und zeige es im Notebook an."
   ]
  },
  {
   "cell_type": "code",
   "execution_count": null,
   "metadata": {},
   "outputs": [],
   "source": [
    "new_img = img_rgb\n",
    "new_img = cv2.flip(new_img,0)\n",
    "plt.imshow(new_img)"
   ]
  },
  {
   "cell_type": "markdown",
   "metadata": {},
   "source": [
    "#### AUFGABE: Zeichne ein leeres, rotes Rechteck um das Gesicht des Hundes und zeige das Bild im Notebook an."
   ]
  },
  {
   "cell_type": "code",
   "execution_count": null,
   "metadata": {},
   "outputs": [],
   "source": [
    "plt.imshow(img_rgb)"
   ]
  },
  {
   "cell_type": "code",
   "execution_count": null,
   "metadata": {},
   "outputs": [],
   "source": [
    "cv2.rectangle(img_rgb,pt1=(200,380),pt2=(600,700),color=(255,0,0),thickness=10)\n",
    "plt.imshow(img_rgb)"
   ]
  },
  {
   "cell_type": "markdown",
   "metadata": {},
   "source": [
    "#### AUFGABE: Zeichne ein BLAUES DREIECK in der Mitte des Bildes. Grösse und Winkel bleiben dir überlassen, es soll aber ein Dreieck (drei Seiten) in jeder Orientierung sein."
   ]
  },
  {
   "cell_type": "code",
   "execution_count": null,
   "metadata": {},
   "outputs": [],
   "source": [
    "img_rgb = cv2.cvtColor(img, cv2.COLOR_BGR2RGB)\n",
    "vertices = np.array([[250,700],[425,400],[600,700]],np.int32)\n",
    "pts = vertices.reshape((-1,1,2))\n",
    "\n",
    "cv2.polylines(img_rgb,[pts],isClosed=True,color=(0,0,255),thickness=20)\n",
    "plt.imshow(img_rgb)"
   ]
  },
  {
   "cell_type": "markdown",
   "metadata": {},
   "source": [
    "### BONUSAUFGABE: Hast du eine Idee, wie dieses Dreieck befüllt werden kann? Eine andere, in dieser Lektion von uns nicht gezeigte Funktion wird dafür benötigt! Kannst du sie mit der Google-Suche finden?\n",
    "\n",
    "[Klicke hier für einen direkten Link zum Tipp](https://docs.opencv.org/3.0-beta/modules/imgproc/doc/drawing_functions.html#fillpoly)"
   ]
  },
  {
   "cell_type": "code",
   "execution_count": null,
   "metadata": {},
   "outputs": [],
   "source": [
    "img_rgb = cv2.cvtColor(img, cv2.COLOR_BGR2RGB)\n",
    "vertices = np.array([[250,700],[425,400],[600,700]],np.int32)\n",
    "pts = vertices.reshape((-1,1,2))\n",
    "\n",
    "cv2.fillPoly(img_rgb,[pts],color=(0,0,255))\n",
    "plt.imshow(img_rgb)"
   ]
  },
  {
   "cell_type": "markdown",
   "metadata": {},
   "source": [
    "#### AUFGABE: (BEACHTE: DU MUSST DIES ALS SCRIPT AUSFÜHREN). Erzeuge ein Script, welches das Bild öffnet und es dir erlaubt, leere, rote Kreise zu zeichnen, wo du die rechte Maustaste herunterdrückst."
   ]
  },
  {
   "cell_type": "code",
   "execution_count": null,
   "metadata": {},
   "outputs": [],
   "source": [
    "import cv2\n",
    "import numpy as np\n",
    "# Erzeuge eine auf einem CV2-Ereignis (Event) basierende Funktion (Linker Mausklick)\n",
    "def draw_circle(event,x,y,flags,param):\n",
    "    if event == cv2.EVENT_RBUTTONDOWN:\n",
    "        cv2.circle(img,(x,y),100,(0,0,255),10)\n",
    "\n",
    "# Öffne das Bild\n",
    "img = cv2.imread(\"../DATA/dog_backpack.png\")\n",
    "# Folgendes benennt das Fenster, damit wir darauf zugreifen können\n",
    "cv2.namedWindow(winname='dog')\n",
    "# Verbindet den Mausklick mit der Rückruffunktion (callback function)\n",
    "cv2.setMouseCallback('dog',draw_circle)\n",
    "\n",
    "while True: # Läuft endlos, bis wir mit der Esc-Taste der Tastatur unterbrechen\n",
    "    # Zeigt das Bildfenster an\n",
    "    cv2.imshow('dog',img)\n",
    "    # ERKLÄRUNG FÜR DIESE CODEZEILE:\n",
    "    # https://stackoverflow.com/questions/35372700/whats-0xff-for-in-cv2-waitkey1/39201163\n",
    "    if cv2.waitKey(20) & 0xFF == 27:\n",
    "        break\n",
    "# Nach Beendigung des Skripts ist es empfehlenswert, die folgende Zeile auszuführen:\n",
    "# Sie schliesst alle Fenster (nur für den Fall, dass mehrere Fenster geöffnet waren)\n",
    "cv2.destroyAllWindows()\n"
   ]
  }
 ],
 "metadata": {
  "kernelspec": {
   "display_name": "Python 3 (ipykernel)",
   "language": "python",
   "name": "python3"
  },
  "language_info": {
   "codemirror_mode": {
    "name": "ipython",
    "version": 3
   },
   "file_extension": ".py",
   "mimetype": "text/x-python",
   "name": "python",
   "nbconvert_exporter": "python",
   "pygments_lexer": "ipython3",
   "version": "3.7.10"
  }
 },
 "nbformat": 4,
 "nbformat_minor": 2
}
