{
 "cells": [
  {
   "cell_type": "markdown",
   "metadata": {},
   "source": [
    "<a href=\"https://akademie.datamics.com/kursliste/\">![title](bg_datamics_top.png)</a>\n",
    "\n",
    "<center><em>© Datamics</em></center><br><center><em>Besuche uns für mehr Informationen auf <a href='https://akademie.datamics.com/kursliste/'>www.akademie.datamics.com</a></em>\n",
    "\n",
    "# Bilddateien mit OpenCV öffnen"
   ]
  },
  {
   "cell_type": "markdown",
   "metadata": {},
   "source": [
    "OpenCV kann beim Ausführen eines .py-Skripts Bilder in seperaten Fenstern öffnen. Bitte berücksichtige hierbei, dass dies aus komplexen Gründen häufig nicht funktioniert mit dem iPython-Kernel in einem Jupyter-Notebook. (Es ist ein offener Issue (Angelegenheit) auf der GitHub-Seite, da Lösungen derzeit stark abhängig sind vom Betriebssystem des Benutzers).\n",
    "\n",
    "Lasst uns herausfinden, wie wir OpenCV benutzen können, um Dateien in seperaten Fenstern zu öffnen. Normalerweise würdest du diese Art von Befehlen als Skript ausführen! Daher haben wir dieser Lektion .py-Skripte beigefügt."
   ]
  },
  {
   "cell_type": "code",
   "execution_count": null,
   "metadata": {},
   "outputs": [],
   "source": [
    "# MUSS ALS .py SKRIPT AUSGEFÜHRT WERDEN, DAMIT ES FUNKTIONIERT\n",
    "# BITTE BETRACHTE DAS GANZE VIDEO ZUR ERKLÄRUNG DIESES NOTEBOOKS\n",
    "# DER KLARHEIT HALBER: DAS AUSFÜHREN DIESER ZELLE DIREKT IN JUPYTER KILLT DEN KERNEL\n",
    "\n",
    "import cv2\n",
    "\n",
    "img = cv2.imread('../DATA/00-puppy.jpg',cv2.IMREAD_GRAYSCALE)\n",
    "# Zeige das Bild mit OpenCV\n",
    "cv2.imshow('window_name',img)\n",
    "# Warte auf einen Tastendruck, um das Fenster zu schliessen\n",
    "cv2.waitKey()"
   ]
  }
 ],
 "metadata": {
  "kernelspec": {
   "display_name": "Python 3 (ipykernel)",
   "language": "python",
   "name": "python3"
  },
  "language_info": {
   "codemirror_mode": {
    "name": "ipython",
    "version": 3
   },
   "file_extension": ".py",
   "mimetype": "text/x-python",
   "name": "python",
   "nbconvert_exporter": "python",
   "pygments_lexer": "ipython3",
   "version": "3.7.10"
  }
 },
 "nbformat": 4,
 "nbformat_minor": 2
}
