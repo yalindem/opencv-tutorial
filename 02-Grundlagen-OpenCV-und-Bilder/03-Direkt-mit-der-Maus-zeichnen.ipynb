{
 "cells": [
  {
   "cell_type": "markdown",
   "metadata": {},
   "source": [
    "<a href=\"https://akademie.datamics.com/kursliste/\">![title](bg_datamics_top.png)</a>\n",
    "\n",
    "<center><em>© Datamics</em></center><br><center><em>Besuche uns für mehr Informationen auf <a href='https://akademie.datamics.com/kursliste/'>www.akademie.datamics.com</a></em>"
   ]
  },
  {
   "cell_type": "markdown",
   "metadata": {},
   "source": [
    "# Direkt mit der Maus zeichnen\n",
    "\n",
    "## BEACHTE: ALL DIES SOLLTE ALS .py-SKRIPT AUSGEFÜHRT WERDEN. Betrachte das Video für weitere Informationen."
   ]
  },
  {
   "cell_type": "markdown",
   "metadata": {},
   "source": [
    "## SKRIPT 1: Eine Zeichenfunktion einbinden"
   ]
  },
  {
   "cell_type": "code",
   "execution_count": null,
   "metadata": {},
   "outputs": [],
   "source": [
    "import cv2\n",
    "import numpy as np\n",
    "# Erzeuge eine auf einem CV2 Event (Ereignis) basierende Funktion (Linker Mausklick)\n",
    "def draw_circle(event,x,y,flags,param):\n",
    "    if event == cv2.EVENT_LBUTTONDOWN:\n",
    "        cv2.circle(img,(x,y),100,(0,255,0),-1)\n",
    "\n",
    "# Erzeuge ein schwarzes Bild\n",
    "img = np.zeros((512,512,3), np.uint8)\n",
    "# Folgendes benennt das Fenster, damit wir darauf zugr*eifen können\n",
    "cv2.namedWindow(winname='my_drawing')\n",
    "# Verbindet den Mausklick mit der Callback-Funktion (Rückruffunktion)\n",
    "cv2.setMouseCallback('my_drawing',draw_circle)\n",
    "\n",
    "while True:  # Läuft endlos, bis wir mit der Esc-Taste der Tastatur unterbrechen\n",
    "    # Zeigt das Bildfenster an\n",
    "    cv2.imshow('my_drawing',img)\n",
    "    # ERKLÄRUNG FÜR DIESE CODEZEILE:\n",
    "    # https://stackoverflow.com/questions/35372700/whats-0xff-for-in-cv2-waitkey1/39201163\n",
    "    if cv2.waitKey(20) & 0xFF == 27:\n",
    "        break\n",
    "# Nach Beendigung des Skripts ist es empfehlenswert, die folgende Zeile auszuführen:\n",
    "# Sie schliesst alle Fenster (nur für den Fall, dass mehrere Fenster geöffnet waren)\n",
    "cv2.destroyAllWindows()\n"
   ]
  },
  {
   "cell_type": "markdown",
   "metadata": {},
   "source": [
    "## SKRIPT 2: Funktionalität erweitern mit Ereignisoptionen (Event Choices)"
   ]
  },
  {
   "cell_type": "markdown",
   "metadata": {},
   "source": [
    "---------"
   ]
  },
  {
   "cell_type": "code",
   "execution_count": null,
   "metadata": {},
   "outputs": [],
   "source": [
    "import cv2\n",
    "import numpy as np\n",
    "\n",
    "\n",
    "# Erzeuge eine auf einem CV2 Event (Ereignis) basierende Funktion (Linker Mausklick)\n",
    "def draw_circle(event,x,y,flags,param):\n",
    "    if event == cv2.EVENT_LBUTTONDOWN:\n",
    "        cv2.circle(img,(x,y),100,(0,255,0),-1)\n",
    "    elif event == cv2.EVENT_RBUTTONDOWN:\n",
    "        cv2.circle(img,(x,y),100,(0,0,255),-1)\n",
    "        \n",
    "\n",
    "# Erzeuge ein schwarzes Bild\n",
    "img = np.zeros((512,512,3), np.uint8)\n",
    "# Folgendes benennt das Fenster, damit wir darauf zugreifen können\n",
    "cv2.namedWindow(winname='my_drawing')\n",
    "# Verbindet den Mausklick mit der Callback-Funktion (Rückruffunktion))\n",
    "cv2.setMouseCallback('my_drawing',draw_circle)\n",
    "\n",
    "while True: # Läuft endlos, bis wir mit der Esc-Taste der Tastatur unterbrechen\n",
    "    # Zeigt das Bildfenster an\n",
    "    cv2.imshow('my_drawing',img)\n",
    "    # ERKLÄRUNG FÜR DIESE CODEZEILE:\n",
    "    # https://stackoverflow.com/questions/35372700/whats-0xff-for-in-cv2-waitkey1/39201163\n",
    "    if cv2.waitKey(20) & 0xFF == 27:\n",
    "        break\n",
    "# Nach Beendigung des Skripts ist es empfehlenswert, die folgende Zeile auszuführen:\n",
    "# Sie schliesst alle Fenster (nur für den Fall, dass mehrere Fenster geöffnet waren)\n",
    "cv2.destroyAllWindows()\n"
   ]
  },
  {
   "cell_type": "markdown",
   "metadata": {},
   "source": [
    "# SKRIPT 3: Dragging mit der Maus"
   ]
  },
  {
   "cell_type": "code",
   "execution_count": null,
   "metadata": {},
   "outputs": [],
   "source": [
    "import cv2\n",
    "import numpy as np\n",
    "\n",
    "\n",
    "# Erzeuge eine auf einem CV2 Event (Ereignis) basierende Funktion (Linker Mausklick)\n",
    "drawing = False # True, wenn die Maus gedrückt ist\n",
    "ix,iy = -1,-1\n",
    "\n",
    "# Maus Callback-Funktion (Rückruffunktion)\n",
    "def draw_rectangle(event,x,y,flags,param):\n",
    "    global ix,iy,drawing,mode\n",
    "\n",
    "    if event == cv2.EVENT_LBUTTONDOWN:\n",
    "        # Wenn du die linke Maustaste nach UNTEN drückst, wird drawing auf True gesetzt\n",
    "        drawing = True\n",
    "        # Danach speichern wir die aktuelle Position der Maus\n",
    "        ix,iy = x,y\n",
    "\n",
    "    elif event == cv2.EVENT_MOUSEMOVE:\n",
    "        # Jetzt bewegt sich die Maus\n",
    "        if drawing == True:\n",
    "            # Wenn drawing den Wert True hat, hast du bereits die linke Maustaste gedrückt\n",
    "            # Wir zeichnen ein Rechteck von der vorherigen Position zu der aktuellen x,y-Koordinate der Maus\n",
    "            cv2.rectangle(img,(ix,iy),(x,y),(0,255,0),-1)\n",
    "           \n",
    "\n",
    "    elif event == cv2.EVENT_LBUTTONUP:\n",
    "        # Nach dem Loslassen der Maustaste wird drawing auf False gesetzt\n",
    "        drawing = False\n",
    "        # Wir vervollständigen das Rechteck.\n",
    "        cv2.rectangle(img,(ix,iy),(x,y),(0,255,0),-1)\n",
    "        \n",
    "        \n",
    "\n",
    "# Erzeuge ein schwarzes Bild\n",
    "img = np.zeros((512,512,3), np.uint8)\n",
    "# Folgendes benennt das Fenster, damit wir darauf zugreifen können\n",
    "cv2.namedWindow(winname='my_drawing')\n",
    "# Verbindet den Mausklick mit der Callback-Funktion (Rückruffunktion)\n",
    "cv2.setMouseCallback('my_drawing',draw_rectangle)\n",
    "\n",
    "while True: # Läuft endlos, bis wir mit der Esc-Taste der Tastatur unterbrechen\n",
    "    # Zeigt das Bildfenster an\n",
    "    cv2.imshow('my_drawing',img)\n",
    "    # ERKLÄRUNG FÜR DIESE CODEZEILE:\n",
    "    # https://stackoverflow.com/questions/35372700/whats-0xff-for-in-cv2-waitkey1/39201163\n",
    "    \n",
    "    # ÜBERPRÜFE, OB ESC AUF DER TASTATUR GEDRÜCKT WURDE\n",
    "    if cv2.waitKey(1) & 0xFF == 27:\n",
    "        break\n",
    "# Nach Beendigung des Skripts ist es empfehlenswert, die folgende Zeile auszuführen:\n",
    "# Sie schliesst alle Fenster (nur für den Fall, dass mehrere Fenster geöffnet waren)\n",
    "cv2.destroyAllWindows()"
   ]
  }
 ],
 "metadata": {
  "kernelspec": {
   "display_name": "Python 3 (ipykernel)",
   "language": "python",
   "name": "python3"
  },
  "language_info": {
   "codemirror_mode": {
    "name": "ipython",
    "version": 3
   },
   "file_extension": ".py",
   "mimetype": "text/x-python",
   "name": "python",
   "nbconvert_exporter": "python",
   "pygments_lexer": "ipython3",
   "version": "3.7.10"
  }
 },
 "nbformat": 4,
 "nbformat_minor": 2
}
