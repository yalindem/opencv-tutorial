{
 "cells": [
  {
   "cell_type": "markdown",
   "metadata": {},
   "source": [
    "<a href=\"https://akademie.datamics.com/kursliste/\">![title](bg_datamics_top.png)</a>\n",
    "\n",
    "<center><em>© Datamics</em></center><br><center><em>Besuche uns für mehr Informationen auf <a href='https://akademie.datamics.com/kursliste/'>www.akademie.datamics.com</a></em>"
   ]
  },
  {
   "cell_type": "markdown",
   "metadata": {},
   "source": [
    "# CamShift Tracking"
   ]
  },
  {
   "cell_type": "code",
   "execution_count": null,
   "metadata": {},
   "outputs": [],
   "source": [
    "import numpy as np\n",
    "import cv2 \n",
    "\n",
    "# Zeichne das Video auf\n",
    "cap = cv2.VideoCapture(0)\n",
    "\n",
    "# Nimm das erste Frame (Einzelbild) des Streams\n",
    "ret,frame = cap.read()\n",
    "\n",
    "\n",
    "# Richte das initiale Tracking-Fenster ein\n",
    "\n",
    "\n",
    "# Wir detektieren zuerst das Gesicht und legen es als unseren Startbereich fest\n",
    "face_cascade = cv2.CascadeClassifier('../DATA/haarcascades/haarcascade_frontalface_default.xml')\n",
    "face_rects = face_cascade.detectMultiScale(frame) \n",
    "\n",
    "# Konvertiere diese Liste mit einem einzelnem Array zu einem Tupel (x,y,w,h)\n",
    "(face_x,face_y,w,h) = tuple(face_rects[0]) \n",
    "track_window = (face_x,face_y,w,h)\n",
    "# Finde die ROI zum Verfolgen\n",
    "roi = frame[face_y:face_y+h, face_x:face_x+w]\n",
    "\n",
    "\n",
    "# Verwende das HSV-Farbschema\n",
    "hsv_roi =  cv2.cvtColor(roi, cv2.COLOR_BGR2HSV)\n",
    "\n",
    "# Finde das Histogramm, um das Ziel auf jedem Frame zurückzuprojizieren zur Berechnung der Mittelwertverschiebung\n",
    "roi_hist = cv2.calcHist([hsv_roi],[0],None,[180],[0,180])\n",
    "\n",
    "# Normalisiere die Arraywerte des Histogramms für ein gegebenes Minimum von 0 und Maximum von 255\n",
    "cv2.normalize(roi_hist,roi_hist,0,255,cv2.NORM_MINMAX)\n",
    "\n",
    "\n",
    "# Richte ein Kriterium zum Beenden ein, entweder 10 Iterationen oder eine Bewegung von mindestens 1 pt\n",
    "term_crit = ( cv2.TERM_CRITERIA_EPS | cv2.TERM_CRITERIA_COUNT, 10, 1 )\n",
    "\n",
    "while True:\n",
    "    ret ,frame = cap.read()\n",
    "    if ret == True:\n",
    "        \n",
    "        # Nimm das Frame in HSV\n",
    "        hsv = cv2.cvtColor(frame, cv2.COLOR_BGR2HSV)\n",
    "        \n",
    "        # Berechne die Rückprojektion basierend auf dem vorher erzeugten roi_hist\n",
    "        dst = cv2.calcBackProject([hsv],[0],roi_hist,[0,180],1)\n",
    "        \n",
    "        #########################################################\n",
    "        #########################################################\n",
    "        ########## CAM SHIFT ####################################\n",
    "        ########################################################\n",
    "        #######################################################\n",
    "        \n",
    "        # Wende Camshift an, um die neuen Koordinaten des Rechtecks zu erhalten\n",
    "        ret, track_window = cv2.CamShift(dst, track_window, term_crit)\n",
    "        \n",
    "        # Zeichne es auf das Bild\n",
    "        pts = cv2.boxPoints(ret)\n",
    "        pts = np.int0(pts)\n",
    "        img2 = cv2.polylines(frame,[pts],True, (0,0,255),5)\n",
    "        cv2.imshow('img2',img2)\n",
    "        \n",
    "        ########################################################\n",
    "        #######################################################\n",
    "        ########################################################\n",
    "        #######################################################\n",
    "        \n",
    "        k = cv2.waitKey(1) & 0xff\n",
    "        if k == 27:\n",
    "            break\n",
    "        \n",
    "    else:\n",
    "        break\n",
    "        \n",
    "cv2.destroyAllWindows()\n",
    "cap.release()"
   ]
  }
 ],
 "metadata": {
  "kernelspec": {
   "display_name": "Python 3 (ipykernel)",
   "language": "python",
   "name": "python3"
  },
  "language_info": {
   "codemirror_mode": {
    "name": "ipython",
    "version": 3
   },
   "file_extension": ".py",
   "mimetype": "text/x-python",
   "name": "python",
   "nbconvert_exporter": "python",
   "pygments_lexer": "ipython3",
   "version": "3.7.10"
  }
 },
 "nbformat": 4,
 "nbformat_minor": 2
}
